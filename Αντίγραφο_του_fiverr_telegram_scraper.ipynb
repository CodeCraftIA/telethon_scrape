{
  "nbformat": 4,
  "nbformat_minor": 0,
  "metadata": {
    "colab": {
      "provenance": [],
      "authorship_tag": "ABX9TyMi9JZwthHszKFvdYnivP2i",
      "include_colab_link": true
    },
    "kernelspec": {
      "name": "python3",
      "display_name": "Python 3"
    },
    "language_info": {
      "name": "python"
    }
  },
  "cells": [
    {
      "cell_type": "markdown",
      "metadata": {
        "id": "view-in-github",
        "colab_type": "text"
      },
      "source": [
        "<a href=\"https://colab.research.google.com/github/CodeCraftIA/telethon_scrape/blob/main/%CE%91%CE%BD%CF%84%CE%AF%CE%B3%CF%81%CE%B1%CF%86%CE%BF_%CF%84%CE%BF%CF%85_fiverr_telegram_scraper.ipynb\" target=\"_parent\"><img src=\"https://colab.research.google.com/assets/colab-badge.svg\" alt=\"Open In Colab\"/></a>"
      ]
    },
    {
      "cell_type": "markdown",
      "source": [
        "\n",
        "Install the library\n",
        "\n"
      ],
      "metadata": {
        "id": "QpueZOGAce1j"
      }
    },
    {
      "cell_type": "code",
      "execution_count": null,
      "metadata": {
        "colab": {
          "base_uri": "https://localhost:8080/"
        },
        "id": "ni1XZpn_cT7F",
        "outputId": "f532945e-a543-49fb-84b3-f099634bde60"
      },
      "outputs": [
        {
          "output_type": "stream",
          "name": "stdout",
          "text": [
            "Collecting telethon\n",
            "  Downloading Telethon-1.35.0.tar.gz (599 kB)\n",
            "\u001b[2K     \u001b[90m━━━━━━━━━━━━━━━━━━━━━━━━━━━━━━━━━━━━━━━━\u001b[0m \u001b[32m599.8/599.8 kB\u001b[0m \u001b[31m7.4 MB/s\u001b[0m eta \u001b[36m0:00:00\u001b[0m\n",
            "\u001b[?25h  Installing build dependencies ... \u001b[?25l\u001b[?25hdone\n",
            "  Getting requirements to build wheel ... \u001b[?25l\u001b[?25hdone\n",
            "  Preparing metadata (pyproject.toml) ... \u001b[?25l\u001b[?25hdone\n",
            "Collecting pyaes (from telethon)\n",
            "  Downloading pyaes-1.6.1.tar.gz (28 kB)\n",
            "  Preparing metadata (setup.py) ... \u001b[?25l\u001b[?25hdone\n",
            "Requirement already satisfied: rsa in /usr/local/lib/python3.10/dist-packages (from telethon) (4.9)\n",
            "Requirement already satisfied: pyasn1>=0.1.3 in /usr/local/lib/python3.10/dist-packages (from rsa->telethon) (0.6.0)\n",
            "Building wheels for collected packages: telethon, pyaes\n",
            "  Building wheel for telethon (pyproject.toml) ... \u001b[?25l\u001b[?25hdone\n",
            "  Created wheel for telethon: filename=Telethon-1.35.0-py3-none-any.whl size=675107 sha256=f855eb15def8a1e7ab55de1d5f44316e8ae716104c1c3e2bc6e87aacfcbf01b1\n",
            "  Stored in directory: /root/.cache/pip/wheels/7b/18/81/4a5a3adfd4af392db743a5a5942157c220bbedda57a17d6bbf\n",
            "  Building wheel for pyaes (setup.py) ... \u001b[?25l\u001b[?25hdone\n",
            "  Created wheel for pyaes: filename=pyaes-1.6.1-py3-none-any.whl size=26347 sha256=d10c47dcaac67cea2fba732f8d50d625b50b49771e7090310211d9e0207f8de8\n",
            "  Stored in directory: /root/.cache/pip/wheels/d6/84/5f/ea6aef85a93c7e1922486369874f4740a5642d261e09c59140\n",
            "Successfully built telethon pyaes\n",
            "Installing collected packages: pyaes, telethon\n",
            "Successfully installed pyaes-1.6.1 telethon-1.35.0\n"
          ]
        }
      ],
      "source": [
        "!pip install telethon"
      ]
    },
    {
      "cell_type": "markdown",
      "source": [
        "CHANGE THE DATA ON THE NEXT CELL TO YOUR DATA, API_ID - API_HASH and the target CHANNEL-GROUP"
      ],
      "metadata": {
        "id": "WMr2qZRDGdFk"
      }
    },
    {
      "cell_type": "code",
      "source": [
        "# Initialize your client here\n",
        "api_id = 'xxx'\n",
        "api_hash = 'xxxxx'"
      ],
      "metadata": {
        "id": "NIl1AguZGFQr"
      },
      "execution_count": null,
      "outputs": []
    },
    {
      "cell_type": "markdown",
      "source": [
        "You need to create a txt file with all the group-channels handles you want the script to check, save them in channels.txt"
      ],
      "metadata": {
        "id": "eyPmHtcxJ5Fz"
      }
    },
    {
      "cell_type": "markdown",
      "source": [
        "Scrape participants of a public group"
      ],
      "metadata": {
        "id": "Yxg0hRn-_zWp"
      }
    },
    {
      "cell_type": "code",
      "source": [
        "from telethon.sync import TelegramClient\n",
        "from datetime import datetime, timedelta\n",
        "import asyncio\n",
        "import pandas as pd\n",
        "\n",
        "async def scrape_participants(channels):\n",
        "    try:\n",
        "        async with TelegramClient('anon', api_id, api_hash) as client:\n",
        "            for channel in channels:\n",
        "                try:\n",
        "                  data = []\n",
        "                  async for participant in client.iter_participants(channel):\n",
        "                      if participant.first_name:\n",
        "                          participant_name = f\"{participant.first_name}\"\n",
        "                      else:\n",
        "                          participant_name = \"\"\n",
        "                      data.append({\n",
        "                          'ID': participant.id,\n",
        "                          'Username': participant.username,\n",
        "                          'Name': participant_name,\n",
        "                          'Link': f'https://web.telegram.org/a/#{participant.id}'\n",
        "                      })\n",
        "                except Exception as e:\n",
        "                    print(f\"Oops, something went wrong while scraping participants from '{channel}'\")\n",
        "                    continue  # Continue to the next channel even if an exception occurs\n",
        "\n",
        "            # Convert data to DataFrame\n",
        "            df = pd.DataFrame(data)\n",
        "\n",
        "            # Define the file name\n",
        "            file_name = 'participants.xlsx'\n",
        "\n",
        "            # Export DataFrame to Excel file\n",
        "            df.to_excel(file_name, index=False)\n",
        "            print(f\"Participants scraped successfully from '{channel}' and saved in '{file_name}'.\")\n",
        "    except Exception as e:\n",
        "        print(\"Oops, something went wrong while scraping participants.\")\n",
        "\n",
        "async def scrape_messages(channels):\n",
        "    try:\n",
        "        async with TelegramClient('anon', api_id, api_hash) as client:\n",
        "            for channel in channels:\n",
        "                try:\n",
        "                  data_messages = []\n",
        "                  async for message in client.iter_messages(channel, limit=100):\n",
        "                      # Convert datetime to timezone-unaware datetime\n",
        "                      date_unaware = message.date.replace(tzinfo=None)\n",
        "                      # Get media if message has any\n",
        "                      media_url = None\n",
        "                      if message.media:\n",
        "                          if hasattr(message.media, 'photo'):\n",
        "                              media_url = message.media.photo\n",
        "\n",
        "                          elif hasattr(message.media, 'document'):\n",
        "                              media_url = message.media.document\n",
        "                      data_messages.append({\n",
        "                          'ID': message.id,\n",
        "                          'Date': date_unaware,\n",
        "                          'Text': message.text,\n",
        "                          'Media URL': media_url,\n",
        "                      })\n",
        "                except Exception as e:\n",
        "                    print(f\"Oops, something went wrong while scraping participants from '{channel}'\")\n",
        "                    continue  # Continue to the next channel even if an exception occurs\n",
        "\n",
        "            # Convert data to DataFrame\n",
        "            df = pd.DataFrame(data_messages)\n",
        "\n",
        "            # Define the file name\n",
        "            file_name = 'messages.xlsx'\n",
        "\n",
        "            # Export DataFrame to Excel file\n",
        "            df.to_excel(file_name, index=False)\n",
        "            print(f\"Messages scraped successfully from '{channel}' and saved in '{file_name}'.\")\n",
        "    except Exception as e:\n",
        "        print(\"Oops, something went wrong while scraping messages.\")\n",
        "\n",
        "# Read channels from the file\n",
        "with open('channels.txt', 'r') as file:\n",
        "    channels = file.read().splitlines()\n",
        "\n",
        "# Use await directly in the notebook to run the async functions\n",
        "await scrape_participants(channels)\n",
        "await scrape_messages(channels)"
      ],
      "metadata": {
        "id": "soVJDJcSc91h",
        "colab": {
          "base_uri": "https://localhost:8080/"
        },
        "outputId": "abb93f39-f6ad-47ee-d303-f707659da7ec"
      },
      "execution_count": null,
      "outputs": [
        {
          "output_type": "stream",
          "name": "stdout",
          "text": [
            "Participants scraped successfully from 'benofmpublicgroup' and saved in 'benofmpublicgroup_participants.xlsx'.\n",
            "Oops, something went wrong while scraping messages.\n"
          ]
        }
      ]
    }
  ]
}